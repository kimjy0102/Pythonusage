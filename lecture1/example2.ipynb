{
 "cells": [
  {
   "cell_type": "code",
   "execution_count": 6,
   "metadata": {},
   "outputs": [],
   "source": [
    "from selenium import webdriver\n",
    "from selenium.webdriver.common.keys import Keys\n",
    "from selenium.webdriver.common.by import By\n",
    "import time"
   ]
  },
  {
   "cell_type": "code",
   "execution_count": 7,
   "metadata": {},
   "outputs": [
    {
     "name": "stderr",
     "output_type": "stream",
     "text": [
      "C:\\Users\\김준엽\\AppData\\Local\\Temp\\ipykernel_20644\\4159220900.py:1: DeprecationWarning: executable_path has been deprecated, please pass in a Service object\n",
      "  driver = webdriver.Chrome(\"C:/Users/김준엽/Desktop/python_sample/chromedriver-win64/chromedriver.exe\")\n"
     ]
    }
   ],
   "source": [
    "driver = webdriver.Chrome(\"C:/Users/김준엽/Desktop/python_sample/chromedriver-win64/chromedriver.exe\")\n",
    "driver.get(\"https://klue.kr/login\")\n",
    "\n",
    "time.sleep(1)"
   ]
  },
  {
   "cell_type": "code",
   "execution_count": 8,
   "metadata": {},
   "outputs": [],
   "source": [
    "# id와 pw를 입력하는 창의 요소 정보 획득 #창이 켜져 있어야 함 창 없으면 로그인 당연히 못하니까!\n",
    "input = driver.find_elements(By.XPATH, '//input')\n",
    "\n",
    "# 클루 아이디\n",
    "id = \"hermione414\"\n",
    "# 비밀번호\n",
    "pw = \"kk99741!\"\n",
    "\n",
    "# 아이디를 입력\n",
    "input[0].send_keys(id)\n",
    "# 비밀번호 입력\n",
    "input[1].send_keys(pw)\n",
    "# 엔터\n",
    "input[1].send_keys(Keys.RETURN)\n",
    "time.sleep(5)\n"
   ]
  },
  {
   "cell_type": "code",
   "execution_count": 15,
   "metadata": {},
   "outputs": [],
   "source": [
    "driver.get('https://klue.kr/search?query=%EA%B9%80%EC%A2%85%EA%B5%AD&sort=year_term')"
   ]
  },
  {
   "cell_type": "code",
   "execution_count": 18,
   "metadata": {},
   "outputs": [
    {
     "name": "stdout",
     "output_type": "stream",
     "text": [
      "********break********\n"
     ]
    }
   ],
   "source": [
    "#페이지의 맨 끝에 다다랐는지 확인하고 그렇지 않다면 계속해서 end 키를 누르는 코드.\n",
    "elem = driver.find_element(By.TAG_NAME, \"body\")\n",
    "\n",
    "#스크롤길이정보 획득\n",
    "last_height = driver.execute_script(\"return document.body.scrollHeight\")\n",
    "\n",
    "#계속해서반복\n",
    "while True:\n",
    "\t\t#end키 10번 누르기\n",
    "    for i in range(10):\n",
    "        elem.send_keys(Keys.END) # keys send 등등이 selenium의 기능이라 할 수 있다. \n",
    "        time.sleep(0.2)\n",
    "\t   \n",
    "\t\t#이번 스크롤 길이정보 획득\n",
    "    new_height = driver.execute_script(\"return document.body.scrollHeight\")\n",
    "\n",
    "\t\t#만약 새 스크롤 길이정보가 이전과 달라지지 않았다면\n",
    "    if new_height == last_height:\n",
    "        print(\"********\" + \"break********\")\n",
    "\t\t\t\t#루프 종료\n",
    "        break\n",
    "\t\t#직전 스크롤 길이정보에 이번 스크롤 길이정보값을 할당\n",
    "    last_height = new_height"
   ]
  },
  {
   "cell_type": "markdown",
   "metadata": {},
   "source": [
    "이 이후로는 example1 과 똑같이 내용을 찾아서 가져온다. "
   ]
  },
  {
   "cell_type": "code",
   "execution_count": 19,
   "metadata": {},
   "outputs": [
    {
     "data": {
      "text/plain": [
       "57"
      ]
     },
     "execution_count": 19,
     "metadata": {},
     "output_type": "execute_result"
    }
   ],
   "source": [
    "elements = driver.find_elements(By.XPATH, '//ul/div/div/li')\n",
    "#f12를 통해 보는 강의평가에 xpath를 확인 강의평가를 알려주는 수많은 li들의 (우클릭)을 통해 xpath 복사햇 알 수 있다. \n",
    "len(elements) #을 실행시켜 출력되는 값이 강의검색 결과값과 같다면 제대로 가져온 것"
   ]
  },
  {
   "cell_type": "code",
   "execution_count": null,
   "metadata": {},
   "outputs": [],
   "source": [
    "element = elements[8]\n",
    "강의만족도 = element.find_element(By.XPATH, 'a/div[2]/div[3]/div/span').text\n",
    "print(강의만족도)\n",
    "#위에서 실행해서 가져온 부분 // ~~ li를 이미 가져왔기 때문에 이를 생략하고 뒤에 부분만 가져와서 강의평가 점수만 가져옴"
   ]
  },
  {
   "cell_type": "code",
   "execution_count": 20,
   "metadata": {},
   "outputs": [
    {
     "name": "stdout",
     "output_type": "stream",
     "text": [
      "데이터구조및알고리즘\n"
     ]
    }
   ],
   "source": [
    "element = elements[8]\n",
    "강의명 = element.find_element(By.XPATH, 'a/div[2]/div[1]/p[1]').text\n",
    "print(강의명)\n",
    "# //*[@id=\"root\"]/div/div[1]/section[2]/div/div/ul/div/div/li[51]/a/div[2]/div[1]/p[1] 가 xpath인데 element가 이미 li까지 가져왔으므로  a부터 복사한다."
   ]
  },
  {
   "cell_type": "code",
   "execution_count": null,
   "metadata": {},
   "outputs": [],
   "source": [
    "for element in elements:\n",
    "    강의만족도 = element.find_element(By.XPATH, 'a/div[2]/div[3]/div/span').text\n",
    "    강의명 = element.find_element(By.XPATH, 'a/div[2]/div[1]/p[1]').text\n",
    "    print(강의명, 강의만족도)"
   ]
  },
  {
   "cell_type": "code",
   "execution_count": null,
   "metadata": {},
   "outputs": [],
   "source": [
    "강의명, 강의만족도 = [],[] #list를 만들어서 저장한다. \n",
    "for element in elements:\n",
    "    강의만족도.append(element.find_element(By.XPATH, 'a/div[2]/div[3]/div/span').text)\n",
    "    강의명.append(element.find_element(By.XPATH, 'a/div[2]/div[1]/p[1]').text)\n",
    "print(강의명)\n",
    "print(강의만족도)"
   ]
  },
  {
   "cell_type": "code",
   "execution_count": null,
   "metadata": {},
   "outputs": [],
   "source": [
    "#각 정보를 담을 리스트를 생성합니다\n",
    "학기, 학수번호, 학과, 이수학점 = [],[],[],[]\n",
    "강의명, 교수명 = [],[]\n",
    "학습량, 난이도, 학점, 성취감, 강의만족도 = [],[],[],[],[]\n",
    "\n",
    "#for문을 사용하여 elements의 각 element를 탐색합니다.\n",
    "for i, element in enumerate(elements):\n",
    "    #평가정보 div의 윗단 div를 top으로 선언\n",
    "    top =  element.find_element(By.XPATH, 'a/div[1]')\n",
    "    #top에서 학기와 학수번호 정보를 가져옵니다.(2019년 2학기 - KECE208(03))\n",
    "    li1 = top.find_element(By.XPATH, 'p[1]').text.split(' - ') #정보가 ' - '로 나뉘어있으므로, 해당 값을 기준으로 정보를 분할합니다.\n",
    "    #top에서 학과와 이수학점 정보를 가져옵니다.(전기전자공학부 1학점)\n",
    "    li2 = top.find_element(By.XPATH, 'p[2]').text.split(' ') #정보가 ' '로 나뉘어있으므로, 해당 값을 기준으로 정보를 분할합니다.\n",
    "\n",
    "    #각 정보를 필요한 리스트에 담습니다.\n",
    "    학기.append(li1[0])\n",
    "    학수번호.append(li1[1])\n",
    "    학과.append(li2[0])\n",
    "    이수학점.append(li2[1])\n",
    "    \n",
    "    #평가정보 div의 아랫단 div를 bottom으로 선언\n",
    "    bottom = element.find_element(By.XPATH, 'a/div[2]')\n",
    "\n",
    "    #bottom에서 강의정보와 교수명을 가져와 리스트에 담습니다.\n",
    "    강의명.append(bottom.find_element(By.XPATH, 'div[1]/p[1]').text)\n",
    "    교수명.append(bottom.find_element(By.XPATH, 'div[1]/p[2]/span').text)\n",
    "\n",
    "    #오래된 강의의 강의평에 대해서는 학습량, 난이도, 학점, 성취감 정보가 존재하지 않는 경우가 있습니다.\n",
    "    #존재하지 않는 영역의 값을 가져올땐 오류가 발생하므로, try-except문을 사용하여 오류처리를 해줍니다.\n",
    "    try:\n",
    "        학습량.append(bottom.find_element(By.XPATH, 'div[2]/div/div[1]/span[2]').text)\n",
    "        난이도.append(bottom.find_element(By.XPATH, 'div[2]/div/div[2]/span[2]').text)\n",
    "        학점.append(bottom.find_element(By.XPATH, 'div[2]/div/div[3]/span[2]').text)\n",
    "        성취감.append(bottom.find_element(By.XPATH, 'div[2]/div/div[4]/span[2]').text)\n",
    "    except:\n",
    "        #강의평가 요약을 지원하지 않는 강의일 경우\n",
    "        print(\"강의평가 요약을 지원하지 않는 강의입니다\")\n",
    "        학습량.append('-')\n",
    "        난이도.append('-')\n",
    "        학점.append('-')\n",
    "        성취감.append('-')\n",
    "\n",
    "    #bottom에서 강의만족도를 가져와 리스트에 담습니다.\n",
    "    강의만족도.append(bottom.find_element(By.XPATH, 'div[3]/div/span').text)\n",
    "    \n",
    "    #가져온 값들을 출력합니다.\n",
    "    print(f\"강의명: {강의명[i]} 교수명: {교수명[i]} 강의만족도: {강의만족도[i]}\")\n",
    "    print(f\"학습량: {학습량[i]}, 난이도: {난이도[i]}, 학점: {학점[i]}, 성취감: {성취감[i]}\")"
   ]
  },
  {
   "cell_type": "code",
   "execution_count": null,
   "metadata": {},
   "outputs": [],
   "source": [
    "import pandas as pd\n",
    "df = pd.DataFrame((zip(강의명, 교수명, 학수번호, 학기, 학과, 이수학점, 강의만족도, 학습량, 난이도, 학점, 성취감)), columns = ['강의명', '교수명', '학수번호', '학기', '학과', '이수학점', '강의만족도', '학습량', '난이도', '학점', '성취감'])\n",
    "df"
   ]
  }
 ],
 "metadata": {
  "kernelspec": {
   "display_name": "lecture1",
   "language": "python",
   "name": "python3"
  },
  "language_info": {
   "codemirror_mode": {
    "name": "ipython",
    "version": 3
   },
   "file_extension": ".py",
   "mimetype": "text/x-python",
   "name": "python",
   "nbconvert_exporter": "python",
   "pygments_lexer": "ipython3",
   "version": "3.11.4"
  }
 },
 "nbformat": 4,
 "nbformat_minor": 2
}
